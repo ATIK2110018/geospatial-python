{
  "nbformat": 4,
  "nbformat_minor": 0,
  "metadata": {
    "colab": {
      "provenance": [],
      "authorship_tag": "ABX9TyNkR6V3vTAnEhbmh4Q2oiIe",
      "include_colab_link": true
    },
    "kernelspec": {
      "name": "python3",
      "display_name": "Python 3"
    },
    "language_info": {
      "name": "python"
    }
  },
  "cells": [
    {
      "cell_type": "markdown",
      "metadata": {
        "id": "view-in-github",
        "colab_type": "text"
      },
      "source": [
        "<a href=\"https://colab.research.google.com/github/ATIK2110018/geospatial-python/blob/main/teesta_morphology.ipynb\" target=\"_parent\"><img src=\"https://colab.research.google.com/assets/colab-badge.svg\" alt=\"Open In Colab\"/></a>"
      ]
    },
    {
      "cell_type": "code",
      "execution_count": 1,
      "metadata": {
        "colab": {
          "base_uri": "https://localhost:8080/"
        },
        "id": "bGmqLVJf1OmO",
        "outputId": "ecf08ffb-d051-4d97-a630-fe3aeaee99b9"
      },
      "outputs": [
        {
          "output_type": "stream",
          "name": "stdout",
          "text": [
            "Mounted at /content/drive\n"
          ]
        }
      ],
      "source": [
        "from google.colab import drive\n",
        "drive.mount('/content/drive')"
      ]
    },
    {
      "cell_type": "code",
      "source": [
        "!pip install rasterio -q"
      ],
      "metadata": {
        "id": "vCpFkYoc1y5Z"
      },
      "execution_count": 11,
      "outputs": []
    },
    {
      "cell_type": "code",
      "source": [
        "import numpy as np\n",
        "import rasterio\n",
        "from rasterio import Affine\n",
        "from rasterio.enums import Resampling\n",
        "from rasterio.transform import from_origin\n",
        "import matplotlib.pyplot as plt"
      ],
      "metadata": {
        "id": "VpxkmGSu1mJw"
      },
      "execution_count": 12,
      "outputs": []
    },
    {
      "cell_type": "code",
      "source": [
        "with rasterio.open(\"/content/drive/MyDrive/GIS/Teesta_project/reclassed_raster/lulc_1990_resampled.tif\") as src_1990:\n",
        "    lulc_1990 = src_1990.read(1)\n",
        "    profile = src_1990.profile\n",
        "\n",
        "with rasterio.open(\"/content/drive/MyDrive/GIS/Teesta_project/reclassed_raster/lulc_2000_resampled.tif\") as src_2000:\n",
        "    lulc_2000 = src_2000.read(1)"
      ],
      "metadata": {
        "id": "ZM--pqdn1uIt"
      },
      "execution_count": 20,
      "outputs": []
    },
    {
      "cell_type": "code",
      "source": [
        "WATER = 1\n",
        "BAR = 3\n",
        "VEGETATION = 2\n",
        "LAND = [BAR, VEGETATION]"
      ],
      "metadata": {
        "id": "iDeqs0kr2AWC"
      },
      "execution_count": 21,
      "outputs": []
    },
    {
      "cell_type": "code",
      "source": [
        "eroded = np.isin(lulc_1990, LAND) & (lulc_2000 == WATER)\n",
        "accreted = (lulc_1990 == WATER) & np.isin(lulc_2000, LAND)"
      ],
      "metadata": {
        "id": "BLiYAfdj2EkY"
      },
      "execution_count": 22,
      "outputs": []
    },
    {
      "cell_type": "code",
      "source": [
        "pixel_area = abs(profile['transform'][0] * profile['transform'][4])"
      ],
      "metadata": {
        "id": "p5qhtDpR2HvD"
      },
      "execution_count": 24,
      "outputs": []
    },
    {
      "cell_type": "code",
      "source": [
        "eroded_area = np.sum(eroded) * pixel_area\n",
        "accreted_area = np.sum(accreted) * pixel_area"
      ],
      "metadata": {
        "id": "bTq_9Opt2K5m"
      },
      "execution_count": 25,
      "outputs": []
    },
    {
      "cell_type": "code",
      "source": [
        "bar_1990_area = np.sum(lulc_1990 == BAR) * pixel_area\n",
        "bar_2000_area = np.sum(lulc_2000 == BAR) * pixel_area\n",
        "bar_area_difference = bar_2000_area - bar_1990_area"
      ],
      "metadata": {
        "id": "Txc8j0xm2PlX"
      },
      "execution_count": 26,
      "outputs": []
    },
    {
      "cell_type": "code",
      "source": [
        "print(f\"Eroded Area: {eroded_area:.2f} sq.m\")\n",
        "print(f\"Accreted Area: {accreted_area:.2f} sq.m\")\n",
        "print(f\"Bar Area in 1990: {bar_1990_area:.2f} sq.m\")\n",
        "print(f\"Bar Area in 2000: {bar_2000_area:.2f} sq.m\")\n",
        "print(f\"Bar Area Difference (2000 - 1990): {bar_area_difference:.2f} sq.m\")"
      ],
      "metadata": {
        "colab": {
          "base_uri": "https://localhost:8080/"
        },
        "id": "79YYeK_Y2Rio",
        "outputId": "ac678036-573c-45b5-8833-cfb49d8f9458"
      },
      "execution_count": 27,
      "outputs": [
        {
          "output_type": "stream",
          "name": "stdout",
          "text": [
            "Eroded Area: 41832000.00 sq.m\n",
            "Accreted Area: 65080800.00 sq.m\n",
            "Bar Area in 1990: 123120900.00 sq.m\n",
            "Bar Area in 2000: 135659700.00 sq.m\n",
            "Bar Area Difference (2000 - 1990): 12538800.00 sq.m\n"
          ]
        }
      ]
    },
    {
      "cell_type": "code",
      "source": [
        "change_map = np.zeros_like(lulc_1990)\n",
        "change_map[eroded] = 1\n",
        "change_map[accreted] = 2"
      ],
      "metadata": {
        "id": "Qhi7MsN42o_l"
      },
      "execution_count": 28,
      "outputs": []
    },
    {
      "cell_type": "code",
      "source": [
        "plt.figure(figsize=(8, 8))\n",
        "plt.imshow(change_map, cmap='RdYlBu', interpolation='none')\n",
        "plt.title('Teesta River Morphological Changes (1990–2000)')\n",
        "plt.colorbar(label='1 = Eroded, 2 = Accreted')\n",
        "plt.axis('off')\n",
        "plt.show()"
      ],
      "metadata": {
        "colab": {
          "base_uri": "https://localhost:8080/",
          "height": 666
        },
        "id": "gEqE1Nt34ZCq",
        "outputId": "b09447df-1285-4dee-a7fb-2f624c6d56cc"
      },
      "execution_count": 29,
      "outputs": [
        {
          "output_type": "display_data",
          "data": {
            "text/plain": [
              "<Figure size 800x800 with 2 Axes>"
            ],
            "image/png": "[encoded data removed]"
          },
          "metadata": {}
        }
      ]
    },
    {
      "cell_type": "code",
      "source": [
        "# Update raster profile for binary output\n",
        "output_profile = profile.copy()\n",
        "output_profile.update(dtype=rasterio.uint8, count=1, compress='lzw')"
      ],
      "metadata": {
        "id": "KXuenbOr4cHF"
      },
      "execution_count": 30,
      "outputs": []
    },
    {
      "cell_type": "code",
      "source": [
        "# Save eroded raster (1 for eroded, 0 elsewhere)\n",
        "with rasterio.open(\"eroded_area.tif\", \"w\", **output_profile) as dst:\n",
        "    dst.write(eroded.astype(rasterio.uint8), 1)"
      ],
      "metadata": {
        "id": "Xb6xxHbJ4gsc"
      },
      "execution_count": 31,
      "outputs": []
    },
    {
      "cell_type": "code",
      "source": [
        "with rasterio.open(\"accreted_area.tif\", \"w\", **output_profile) as dst:\n",
        "    dst.write(accreted.astype(rasterio.uint8), 1)"
      ],
      "metadata": {
        "id": "Q0x-QLJG4mPT"
      },
      "execution_count": 32,
      "outputs": []
    },
    {
      "cell_type": "code",
      "source": [
        "# 1=eroded 2=accreted\n",
        "with rasterio.open(\"change_map.tif\", \"w\", **output_profile) as dst:\n",
        "    dst.write(change_map.astype(rasterio.uint8), 1)\n"
      ],
      "metadata": {
        "id": "WXRIEh8A4rgO"
      },
      "execution_count": 33,
      "outputs": []
    }
  ]
}
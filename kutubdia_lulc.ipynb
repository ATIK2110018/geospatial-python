{
  "cells": [
    {
      "cell_type": "markdown",
      "metadata": {
        "id": "view-in-github",
        "colab_type": "text"
      },
      "source": [
        "<a href=\"https://colab.research.google.com/github/ATIK2110018/geospatial-python/blob/main/kutubdia_lulc.ipynb\" target=\"_parent\"><img src=\"https://colab.research.google.com/assets/colab-badge.svg\" alt=\"Open In Colab\"/></a>"
      ]
    },
    {
      "cell_type": "code",
      "execution_count": null,
      "id": "bc2e3399",
      "metadata": {
        "id": "bc2e3399"
      },
      "outputs": [],
      "source": [
        "from google.colab import drive\n",
        "drive.mount('/content/drive')"
      ]
    },
    {
      "cell_type": "code",
      "execution_count": null,
      "id": "0bf68692",
      "metadata": {
        "id": "0bf68692"
      },
      "outputs": [],
      "source": [
        "!pip install rasterio -q"
      ]
    },
    {
      "cell_type": "code",
      "execution_count": null,
      "id": "f428a664",
      "metadata": {
        "id": "f428a664"
      },
      "outputs": [],
      "source": [
        "import numpy as np\n",
        "import rasterio\n",
        "from sklearn.ensemble import RandomForestClassifier\n",
        "from sklearn.model_selection import train_test_split\n",
        "import matplotlib.pyplot as plt\n",
        "from rasterio.plot import show\n",
        "import tempfile\n",
        "import shutil"
      ]
    },
    {
      "cell_type": "code",
      "execution_count": null,
      "id": "c305492d",
      "metadata": {
        "id": "c305492d"
      },
      "outputs": [],
      "source": [
        "def read_lulc_map(file_path):\n",
        "    with rasterio.open(file_path) as src:\n",
        "        lulc_map = src.read(1)\n",
        "        return lulc_map, src.transform, src.crs"
      ]
    },
    {
      "cell_type": "code",
      "execution_count": null,
      "id": "e17e4cbd",
      "metadata": {
        "id": "e17e4cbd"
      },
      "outputs": [],
      "source": [
        "lulc_1988, transform, crs = read_lulc_map('/content/drive/MyDrive/GIS/kutubdia_tif/Kutubdia_1988.tif')\n",
        "lulc_1997, _, _ = read_lulc_map('/content/drive/MyDrive/GIS/kutubdia_tif/Kutubdia_1997.tif')\n",
        "lulc_2006, _, _ = read_lulc_map('/content/drive/MyDrive/GIS/kutubdia_tif/Kutubdia_2006.tif')\n",
        "lulc_2015, _, _ = read_lulc_map('/content/drive/MyDrive/GIS/kutubdia_tif/Kutubdia_2015tif.tif')\n",
        "lulc_2024, _, _ = read_lulc_map('/content/drive/MyDrive/GIS/kutubdia_tif/Kutubdia_2024.tif')"
      ]
    },
    {
      "cell_type": "code",
      "execution_count": null,
      "id": "5823fa6d",
      "metadata": {
        "id": "5823fa6d"
      },
      "outputs": [],
      "source": [
        "X = np.stack([lulc_1988.flatten(), lulc_1997.flatten(), lulc_2006.flatten(), lulc_2015.flatten()], axis=1)\n",
        "y = lulc_2024.flatten()"
      ]
    },
    {
      "cell_type": "code",
      "execution_count": null,
      "id": "d073e396",
      "metadata": {
        "id": "d073e396"
      },
      "outputs": [],
      "source": [
        "X_train, X_test, y_train, y_test = train_test_split(X, y, test_size=0.2, random_state=42)"
      ]
    },
    {
      "cell_type": "code",
      "execution_count": null,
      "id": "57b78fdf",
      "metadata": {
        "id": "57b78fdf"
      },
      "outputs": [],
      "source": [
        "rf_classifier = RandomForestClassifier(n_estimators=100, random_state=42)\n",
        "rf_classifier.fit(X_train, y_train)"
      ]
    },
    {
      "cell_type": "code",
      "execution_count": null,
      "id": "3a6f199b",
      "metadata": {
        "id": "3a6f199b"
      },
      "outputs": [],
      "source": [
        "\n",
        "import numpy as np\n",
        "from sklearn.metrics import accuracy_score\n",
        "\n",
        "lulc_2033_pred = rf_classifier.predict(np.stack([lulc_1997.flatten(), lulc_2006.flatten(), lulc_2015.flatten(), lulc_2024.flatten()], axis=1))\n",
        "lulc_2042_pred = rf_classifier.predict(np.stack([lulc_2006.flatten(), lulc_2015.flatten(), lulc_2024.flatten(), lulc_2033_pred], axis=1))\n",
        "\n",
        "lulc_2033_pred = lulc_2033_pred.reshape(lulc_1988.shape)\n",
        "lulc_2042_pred = lulc_2042_pred.reshape(lulc_1988.shape)\n",
        "\n",
        "y_pred = rf_classifier.predict(X_test)\n",
        "accuracy = accuracy_score(y_test, y_pred)\n",
        "print(f\"Accuracy: {accuracy}\")\n",
        "\n",
        "def save_raster(array, output_path, transform, crs):\n",
        "    with rasterio.open(\n",
        "        output_path,\n",
        "        'w',\n",
        "        driver='GTiff',\n",
        "        height=array.shape[0],\n",
        "        width=array.shape[1],\n",
        "        count=1,\n",
        "        dtype=array.dtype,\n",
        "        crs=crs,\n",
        "        transform=transform\n",
        "    ) as dst:\n",
        "        dst.write(array, 1)\n",
        "\n",
        "temp_dir = tempfile.mkdtemp()\n",
        "output_2033 = f\"{temp_dir}/lulc_2033.tif\"\n",
        "output_2042 = f\"{temp_dir}/lulc_2042.tif\"\n",
        "\n",
        "save_raster(lulc_2033_pred, output_2033, transform, crs)\n",
        "save_raster(lulc_2042_pred, output_2042, transform, crs)\n",
        "\n",
        "cell_size = 30  # Example cell size (replace with your actual cell size)\n",
        "lulc_classes = {\n",
        "    1: \"Water\",\n",
        "    2: \"Forest\",\n",
        "    3: \"Agriculture\",\n",
        "    4: \"Urban\",\n",
        "    5: \"Mangrove\" # Assign values as in the training maps\n",
        "    }\n",
        "\n",
        "def calculate_area(lulc_map):\n",
        "  area_per_class = {}\n",
        "  for class_value, class_name in lulc_classes.items():\n",
        "    area_per_class[class_name] = np.sum(lulc_map == class_value) * cell_size * cell_size\n",
        "  return area_per_class\n",
        "\n",
        "area_2033 = calculate_area(lulc_2033_pred)\n",
        "area_2042 = calculate_area(lulc_2042_pred)\n",
        "\n",
        "print(f\"Land area in 2033: {area_2033}\")\n",
        "print(f\"Land area in 2042: {area_2042}\")\n",
        "\n",
        "!cp $output_2033 /content/drive/MyDrive/GIS/\n",
        "!cp $output_2042 /content/drive/MyDrive/GIS/\n",
        "\n",
        "shutil.rmtree(temp_dir)"
      ]
    },
    {
      "cell_type": "code",
      "execution_count": null,
      "id": "5ade6a69",
      "metadata": {
        "id": "5ade6a69"
      },
      "outputs": [],
      "source": [
        "\n",
        "import matplotlib.pyplot as plt\n",
        "show(lulc_2033, transform=transform)\n",
        "plt.title('Predicted LULC Map for 2033')\n",
        "plt.show()\n",
        "\n",
        "show(lulc_2042, transform=transform)\n",
        "plt.title('Predicted LULC Map for 2042')\n",
        "plt.show()"
      ]
    },
    {
      "cell_type": "code",
      "execution_count": null,
      "id": "f9e6e98f",
      "metadata": {
        "id": "f9e6e98f"
      },
      "outputs": [],
      "source": [
        "\n",
        "\n",
        "import matplotlib.pyplot as plt\n",
        "from rasterio.plot import show\n",
        "import rasterio\n",
        "\n",
        "for year in [2033, 2042]:\n",
        "    with rasterio.open(f\"/content/lulc_{year}.tif\") as src:\n",
        "        lulc_data = src.read(1)\n",
        "        show(lulc_data, transform=src.transform) # Use src.transform\n",
        "        plt.title(f'Predicted LULC Map for {year}')\n",
        "        plt.show()"
      ]
    },
    {
      "cell_type": "code",
      "execution_count": null,
      "id": "314bbff6",
      "metadata": {
        "id": "314bbff6"
      },
      "outputs": [],
      "source": []
    }
  ],
  "metadata": {
    "colab": {
      "provenance": [],
      "include_colab_link": true
    },
    "kernelspec": {
      "display_name": "Python 3",
      "name": "python3"
    },
    "language_info": {
      "name": "python"
    }
  },
  "nbformat": 4,
  "nbformat_minor": 5
}